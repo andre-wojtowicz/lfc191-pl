{
 "cells": [
  {
   "cell_type": "markdown",
   "id": "694f74c6",
   "metadata": {},
   "source": [
    "# Narzędzie pomocnicze REUSE – samouczek\n",
    "\n",
    "Poniższy samouczek opisuje podstawowe kroki, które mają na celu doprowadzić projekt oprogramowania do bycia zgodnym z [REUSE](https://reuse.software). Po zakończeniu samouczka wszystkie pliki projektu będą miały wyraźnie oznaczone prawa autorskie i licencje, a ponadto będzie można to zweryfikować używając narzędzia pomocniczego REUSE.\n",
    "\n",
    "Samouczek pochodzi ze strony <https://reuse.software/tutorial/> i jest udostępniony na licencji [CC BY-SA 4.0](https://creativecommons.org/licenses/by-sa/4.0/deed.pl)."
   ]
  },
  {
   "cell_type": "markdown",
   "id": "ecb70432",
   "metadata": {},
   "source": [
    "## Instalacja\n",
    "\n",
    "Narzędzie REUSE instalujemy jako moduł Pythona 3 przy pomocy menadżera pakietów PIP:"
   ]
  },
  {
   "cell_type": "code",
   "execution_count": null,
   "id": "13b2d617",
   "metadata": {},
   "outputs": [],
   "source": [
    "!pip3 install reuse"
   ]
  },
  {
   "cell_type": "markdown",
   "id": "ef9a6936",
   "metadata": {},
   "source": [
    "W przypadku Linuxa należy upewnić się, że katalog `~/.local/bin` znajduje się w zmiennej środowiskowej `$PATH`. W systemie Windows wymagana ścieżka, w zależności od zainstalowanej wersji Pythona, może mieć wartość `%USERPROFILE%\\AppData\\Roaming\\Python\\Python39\\Scripts` (standardowa instalacja) lub `%USERPROFILE%\\AppData\\Local\\Packages\\PythonSoftwareFoundation.Python.3.9_<tutaj-wprowadź-id>\\LocalCache\\local-packages\\Python39\\Scripts` (instalacja przez Microsoft Store).\n",
    "\n",
    "Dodatkowy opis instalacji znajduje się w [repozytorium projektu](https://github.com/fsfe/reuse-tool#install)."
   ]
  },
  {
   "cell_type": "markdown",
   "id": "131270ec",
   "metadata": {},
   "source": [
    "### Narzędzie tree\n",
    "\n",
    "Podczas pracy będziemy wyświetlali strukturę katalogu projektu. Pomocne przy tym będzie polecenie [`tree`](https://linux.die.net/man/1/tree), które w dystrybucjach Linuxa najczęściej trzeba osobno doinstalować, np.:"
   ]
  },
  {
   "cell_type": "code",
   "execution_count": null,
   "id": "e40eb486",
   "metadata": {},
   "outputs": [],
   "source": [
    "!sudo apt install tree"
   ]
  },
  {
   "cell_type": "markdown",
   "id": "df462a90",
   "metadata": {},
   "source": [
    "## Przygotowanie repozytorium\n",
    "\n",
    "Będziemy pracowali na przykładowym, minimalistycznym projekcie odzwierciedlajacym jakiś projekt oprogramowania. Sklonujmy poniższe repozytorium (będziemy pracować w bieżącym katalogu):"
   ]
  },
  {
   "cell_type": "code",
   "execution_count": null,
   "id": "65597178",
   "metadata": {},
   "outputs": [],
   "source": [
    "!git clone --branch noncompliant https://github.com/fsfe/reuse-example.git ."
   ]
  },
  {
   "cell_type": "markdown",
   "id": "7525bf3e",
   "metadata": {},
   "source": [
    "Wyświetlmy początkową strukturę naszego projektu  (wyświetlimy również ukryte pliki i katalogi z wyłączeniem katalogu `.git`):"
   ]
  },
  {
   "cell_type": "code",
   "execution_count": null,
   "id": "eb4d41d5",
   "metadata": {},
   "outputs": [],
   "source": [
    "!tree -a -I \".git\" reuse-example"
   ]
  },
  {
   "cell_type": "markdown",
   "id": "6ebb959d",
   "metadata": {},
   "source": [
    "W kolejnych krokach przy pomocy narzędzia REUSE nadamy plikom oznaczenia dotyczące praw autorskich oraz licencji."
   ]
  },
  {
   "cell_type": "markdown",
   "id": "6dcef021",
   "metadata": {},
   "source": [
    "## Inicjalizacja REUSE\n",
    "\n",
    "Zainicjalizujemy REUSE w naszym projekcie poprzez polecenie `reuse init`.\n",
    "\n",
    "W interaktywnym dialogu możemy zdefiniować właściwości naszego projektu, a także dodać od początku jedną lub wiele licencji. Pod koniec procesu konfiguracji wskazane przez nas licencje zostaną automatycznie pobrane do właściwej lokalizacji. My nie będziemy wskazywali początkowych licencji; w trakcie samoczuczka będziemy je sukcesywanie dodawali i pobierzemy je w ostatnim kroku. \n",
    "\n",
    "W kolejnych monitach możemy wprowadzić kolejno:\n",
    "\n",
    "* `<ENTER>`\n",
    "* `My project`\n",
    "* `https://example.com`\n",
    "* `Jane Doe`\n",
    "* `jane@example.com`\n",
    "\n",
    "Uruchommy polecenie i skonfigurujmy projekt:"
   ]
  },
  {
   "cell_type": "code",
   "execution_count": null,
   "id": "b53f2f59",
   "metadata": {},
   "outputs": [],
   "source": [
    "!reuse init"
   ]
  },
  {
   "cell_type": "markdown",
   "id": "a29f01fc",
   "metadata": {},
   "source": [
    "Możemy zauważyć, że został utworzony plik `.reuse/dep5`, który zawiera wprowadzone przez nas informacje. Wrócimy jeszcze do tego pliku pod koniec samouczka."
   ]
  },
  {
   "cell_type": "markdown",
   "id": "23170401",
   "metadata": {},
   "source": [
    "## Dodanie informacji o prawach autorskich i licencjach do każdego pliku\n",
    "\n",
    "Na początku musimy zdecydować której licencji będziemy używali – możemy do tego wykorzystać np. stronę <https://choosealicense.com/>. Załóżmy, że w naszym projekcie nasze pliki chcemy głównie obejmować licencją GNU General Public License (GPL) v3.0 lub dowolną późniejszą wersją. Na stronie <https://spdx.org/licenses/> znajdujemy identyfikator SPDX tej licencji – jest to `GPL-3.0-or-later`. Przy pomocy polecenia `reuse addheader` dodamy nagłówki o prawach autorskich i tej licencji do plików `src/main.c`, `Makefile` i `README.md`:"
   ]
  },
  {
   "cell_type": "code",
   "execution_count": null,
   "id": "6a2516f0",
   "metadata": {},
   "outputs": [],
   "source": [
    "!reuse addheader --copyright=\"Jane Doe <jane@example.com>\" --license=\"GPL-3.0-or-later\" src/main.c Makefile README.md"
   ]
  },
  {
   "cell_type": "markdown",
   "id": "a6e1fa99",
   "metadata": {},
   "source": [
    "Możemy zauważyć, że np. w pliku `src/main.c` został dodany odpowiedni nagłówek:"
   ]
  },
  {
   "cell_type": "code",
   "execution_count": null,
   "id": "8a7eb5ba",
   "metadata": {},
   "outputs": [],
   "source": [
    "!head -5 src/main.c"
   ]
  },
  {
   "cell_type": "markdown",
   "id": "9d7b575b",
   "metadata": {},
   "source": [
    "Pliki `Makefile` i `README.md` również mają dodane nagłówki, ale oczywiście w innym stylu komentowania.\n",
    "\n",
    "Domyślnie używany jest aktualny rok, ale można go zmienić przy pomocy parametru `--year=` polecenia `reuse addheader`. Można wybrać np. rok pierwszej publikacji, rok ostatniej publikacji, wszystkie lata publikacji, jako zakres (np. 2017-2019) lub jako oddzielne pozycje (np. 2017, 2018, 2019) lub można w ogóle nie podawać roku."
   ]
  },
  {
   "cell_type": "markdown",
   "id": "9edf320c",
   "metadata": {},
   "source": [
    "## Pliki binarne i pliki bez możliwości dodawania komentarzy\n",
    "\n",
    "W naszym projekcie chcemy również oznaczyć licencją `GPL-3.0-or-later` pliki graficzne. Niestety, obrazy i inne pliki binarne nie mają łatwo edytowalnych nagłówków jako komentarze. Innym przykładem są pliki generowane automatycznie, niektóre pliki danych i pliki konfiguracyjne, dla których dodawanie komentarzy nie jest łatwe.\n",
    "\n",
    "Obejdziemy ten problem tworząc pliki `cat.jpg.license` i `dog.jpg.license`, w których tak w poprzednim kroku każdy będzie zawierał te same informacje o licencji i właścicielu praw autorskich.\n",
    "\n",
    "Narzędzie REUSE powinno automatycznie wykrywać pliki binarne i automatycznie tworzyć odpowiedni pliki `.license`. Jeśli tak się nie stanie lub jeśli chcielibyśmy wymusić ich tworzenie, to dodajemy parametr `--explicit-license` do polecenia `reuse addheader`. Tak więc polecenie dla powyższego zadania może wyglądać następująco:"
   ]
  },
  {
   "cell_type": "code",
   "execution_count": null,
   "id": "b24867ca",
   "metadata": {},
   "outputs": [],
   "source": [
    "!reuse addheader --copyright=\"Jane Doe <jane@example.com>\" --license=\"GPL-3.0-or-later\" --explicit-license img/cat.jpg img/dog.jpg"
   ]
  },
  {
   "cell_type": "markdown",
   "id": "7f5181a1",
   "metadata": {},
   "source": [
    "Możemy podejrzeć jeden z utworzonych plików:"
   ]
  },
  {
   "cell_type": "code",
   "execution_count": null,
   "id": "b24afff8",
   "metadata": {},
   "outputs": [],
   "source": [
    "!cat img/cat.jpg.license"
   ]
  },
  {
   "cell_type": "markdown",
   "id": "420cb735",
   "metadata": {},
   "source": [
    "## Zmiana informacji o licencjonowaniu\n",
    "\n",
    "Pracując nad projektem nagle odkrywamy, że nasze zdjęcia kota i psa (`cat.jpg` i `dog.jpg`) nie były na licencji GPL, ale na Creative Commons Uznanie autorstwa 4.0 i ich właścicielem jest Max Mehl. \n",
    "\n",
    "Identyfikator SPDX dla tej licencji to `CC-BY-4.0`. Narzędzie REUSE jak na razie nie zapewnia sposobu na zastąpienie istniejących informacji o prawach autorskich i licencjach. Uruchomienie polecenia `reuse addheader` nie zastąpi, ale rozszerzy pliki `.license` o dwie dodatkowe linie określające prawa autorskie Maxa Mehla i licencję CC-BY-4.0. W takiej sytuacji możemy te pliki albo edytować ręcznie albo usunąć i wygenerować od nowa:"
   ]
  },
  {
   "cell_type": "code",
   "execution_count": null,
   "id": "5963264a",
   "metadata": {},
   "outputs": [],
   "source": [
    "!rm img/cat.jpg.license img/dog.jpg.license\n",
    "!reuse addheader --copyright=\"Max Mehl <max.mehl@fsfe.org>\" --license=\"CC-BY-4.0\" --explicit-license img/cat.jpg img/dog.jpg"
   ]
  },
  {
   "cell_type": "markdown",
   "id": "d20ab9db",
   "metadata": {},
   "source": [
    "## Artefakty procesu budowania aplikacji\n",
    "\n",
    "Kiedy kompilujemy nasz program, generujemy pewne artefakty kompilacji, np. `src/main.o`. Nie musimy dostarczać żadnych informacji o licencjach dla tego rodzaju plików. Wystarczy dodać odpowiednie informacje w pliku `.gitignore`, tak aby zignorować te artefakty. Narzędzie REUSE będzie respektowało zawartość `.gitignore`. Możemy zauważyć, że informacje te już tam się znajdują:"
   ]
  },
  {
   "cell_type": "code",
   "execution_count": null,
   "id": "40fd257c",
   "metadata": {},
   "outputs": [],
   "source": [
    "!cat .gitignore"
   ]
  },
  {
   "cell_type": "markdown",
   "id": "d3d12a11",
   "metadata": {},
   "source": [
    "## Pliki nieistotne\n",
    "\n",
    "W naszym projekcie mogą być pliki, których nie będziemy uważali za takie, które jakoś szczególnie muszą by chronione prawem autorskim, na przykład pliki konfiguracyjne takie jak `.gitignore`. Możemy nie chcieć licencjonować tych plików, ale podstawową ideą REUSE jest to, że wszystkie pliki mają wyraźnie oznaczone prawa autorskie i licencje.\n",
    "\n",
    "Wszystkie pliki, które są oryginalnymi pracami autorskimi, są objęte prawem autorskim. W szczególności, jeśli ktoś usiadł i spisał na komputerze swoje własne oryginalne myśli, to posiada prawa autorskie do ich rezultatów. Typowe przykłady to kod źródłowy, dokumentacja, pliki audio i wideo. Istnieją jednak pewne skrajne przypadki. Na przykład, program `print(\"Hello, REUSE!\")` prawdopodobnie nie spełnia wymogu oryginalności. Podobnie, pliki danych i pliki konfiguracyjne również mogą nie spełniać tego wymogu.\n",
    "\n",
    "W takiej sytuacji dla naszego pliku `.gitignore` możemy użyć licencji [CC0](https://creativecommons.org/publicdomain/zero/1.0/). Jest to praktycznie identyczne z umieszczeniem pliku w domenie publicznej."
   ]
  },
  {
   "cell_type": "code",
   "execution_count": null,
   "id": "8e65dbb5",
   "metadata": {},
   "outputs": [],
   "source": [
    "!reuse addheader --copyright=\"Jane Doe <jane@example.com>\" --license=\"CC0-1.0\" .gitignore"
   ]
  },
  {
   "cell_type": "markdown",
   "id": "ad3a554c",
   "metadata": {},
   "source": [
    "Możemy teraz sprawdzić zawartość pliku:"
   ]
  },
  {
   "cell_type": "markdown",
   "id": "50751f84",
   "metadata": {},
   "source": [
    "!cat .gitignore"
   ]
  },
  {
   "cell_type": "markdown",
   "id": "7a9ff9fc",
   "metadata": {},
   "source": [
    "## Pobranie plików licencji\n",
    "\n",
    "Utworzymy teraz katalog `LICENSES`, do którego pobierzemy wszystkie wykorzysytwane przez nas licencje:"
   ]
  },
  {
   "cell_type": "code",
   "execution_count": null,
   "id": "55f94db4",
   "metadata": {},
   "outputs": [],
   "source": [
    "!reuse download --all"
   ]
  },
  {
   "cell_type": "markdown",
   "id": "472a32be",
   "metadata": {},
   "source": [
    "Możemy zobaczyć jak wygląda teraz struktura naszego projektu:"
   ]
  },
  {
   "cell_type": "code",
   "execution_count": null,
   "id": "9c4157c2",
   "metadata": {},
   "outputs": [],
   "source": [
    "!tree -a -I \".git\""
   ]
  },
  {
   "cell_type": "markdown",
   "id": "112ea271",
   "metadata": {},
   "source": [
    "## Potwierdzenie zgodności z REUSE\n",
    "\n",
    "Możemy teraz sprawdzić czy nasz projekt jest zgodny z REUSE:"
   ]
  },
  {
   "cell_type": "code",
   "execution_count": null,
   "id": "aa5237a1",
   "metadata": {},
   "outputs": [],
   "source": [
    "!reuse lint"
   ]
  },
  {
   "cell_type": "markdown",
   "id": "a92a09f8",
   "metadata": {},
   "source": [
    "## FAQ"
   ]
  },
  {
   "cell_type": "markdown",
   "id": "de8a6f32",
   "metadata": {},
   "source": [
    "### Wyświetlenie zestawienia licencji i praw autorskich\n",
    "\n",
    "Jeśli chcemy wyświetlić w formacie SPDX zestawienie licencji i praw autorskich dla plików w projekcie, to możemy to zrobić poleceniem:"
   ]
  },
  {
   "cell_type": "code",
   "execution_count": null,
   "id": "ca93a9ac",
   "metadata": {},
   "outputs": [],
   "source": [
    "!reuse spdx"
   ]
  },
  {
   "cell_type": "markdown",
   "id": "6f0d75e5",
   "metadata": {},
   "source": [
    "### Masowe licencjonowanie całych katalogów\n",
    "\n",
    "Jeśli chcemy ustawić za jednym zamachem licencje dla wielu katalogów i plików, to możemy odpowiednio edytować plik `.reuse/dep5`, np.:\n",
    "\n",
    "```plaintext\n",
    "Format: https://www.debian.org/doc/packaging-manuals/copyright-format/1.0/\n",
    "Upstream-Name: my-project\n",
    "Upstream-Contact: Jane Doe <jane@example.com>\n",
    "Source: https://git.example.com/jane/my-project\n",
    "\n",
    "Files: resources/img/* resources/aud/*\n",
    "Copyright: 2017 Jane Doe <jane@example.com>\n",
    "License: CC-BY-4.0\n",
    "\n",
    "Files: resources/vid/*\n",
    "Copyright: 2017 Jane Doe <jane@example.com>\n",
    "           2017 John Doe <john@example.com>\n",
    "License: CC0-1.0\n",
    "```\n",
    "\n",
    "Więcej na temat tego formatu można znaleźć [tutaj](https://www.debian.org/doc/packaging-manuals/copyright-format/1.0/)."
   ]
  },
  {
   "cell_type": "markdown",
   "id": "6ed31fef",
   "metadata": {},
   "source": [
    "### Ustawienie licencji projektu na GitHubie\n",
    "\n",
    "Najlepiej jest utworzyć w głównym katalogu projektu plik `LICENSE.md` z krótką informacją jak wygląda struktura licencjonowania w naszym projekcie."
   ]
  },
  {
   "cell_type": "markdown",
   "id": "2291e55e",
   "metadata": {},
   "source": [
    "### Pozostałe pytania\n",
    "\n",
    "Odpowiedzi na pozostałe często pojawiające się pytania można znaleźć na stronie <https://reuse.software/faq/>."
   ]
  }
 ],
 "metadata": {
  "kernelspec": {
   "display_name": "Python 3",
   "language": "python",
   "name": "python3"
  },
  "language_info": {
   "codemirror_mode": {
    "name": "ipython",
    "version": 3
   },
   "file_extension": ".py",
   "mimetype": "text/x-python",
   "name": "python",
   "nbconvert_exporter": "python",
   "pygments_lexer": "ipython3",
   "version": "3.7.3"
  },
  "latex_envs": {
   "LaTeX_envs_menu_present": true,
   "autoclose": false,
   "autocomplete": true,
   "bibliofile": "biblio.bib",
   "cite_by": "apalike",
   "current_citInitial": 1,
   "eqLabelWithNumbers": true,
   "eqNumInitial": 1,
   "hotkeys": {
    "equation": "Ctrl-E",
    "itemize": "Ctrl-I"
   },
   "labels_anchors": false,
   "latex_user_defs": false,
   "report_style_numbering": false,
   "user_envs_cfg": false
  },
  "toc": {
   "base_numbering": 1,
   "nav_menu": {},
   "number_sections": false,
   "sideBar": true,
   "skip_h1_title": false,
   "title_cell": "Table of Contents",
   "title_sidebar": "Spis treści",
   "toc_cell": false,
   "toc_position": {},
   "toc_section_display": true,
   "toc_window_display": true
  }
 },
 "nbformat": 4,
 "nbformat_minor": 5
}
