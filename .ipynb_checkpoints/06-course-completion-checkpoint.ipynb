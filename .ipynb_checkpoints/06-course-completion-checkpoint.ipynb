{
 "cells": [
  {
   "cell_type": "markdown",
   "metadata": {},
   "source": [
    "# Ukończenie kursu\n",
    "\n",
    "## Zanim przystąpisz do końcowego egzaminu\n",
    "\n",
    "### Do zapamiętania\n",
    "\n",
    "Korzystanie z jednoznacznego określenia praw autorskich i licencji w kodzie pomoże ci uniknąć problemów z wykorzystaniem go:\n",
    "\n",
    "* w nowych plikach - dodawaj oznakowanie zawierające informacje o prawach autorskich i obowiązujących licencjach,\n",
    "* w przypadku znaczących zmian w istniejących plikach - o ile zachodzi taka potrzeba, uaktualniaj informacje o prawach autorskich i licencjach.\n",
    "* Zawsze uzyskuj wszelkie wymagane zezwolenia przed przesyłaniem zmian do projektów, poznaj mechanizmy obowiązujące przy współpracy.\n",
    "\n",
    "Aktualny materiał (ostatnie zmiany w marcu 2020 r.) podsumował podstawy tworzenia oznaczeń w plikach (informacje o prawach autorskich i jednoznaczne określenie obowiązującej licencji), sytuacji wymagających aktualizacji oznaczeń, obowiązujących mechanizmów i wymaganych zezwoleń przy dodawaniu zmian do projektów.\n",
    "\n",
    "## Egzamin końcowy\n",
    "\n",
    "### Zasady\n",
    "\n",
    "Do ukończenia tego kursu wymagana jest ocena końcowa. Aby zdać, musisz uzyskać przynajmniej **90%** prawidłowych odpowiedzi. Zdając egzamin, na każde z pytań możesz udzielić odpowiedzi tylko raz.\n",
    "\n",
    "W przypadku niezaliczenia egzaminu końcowego, będzie ci wolno podejść do niego jeszcze raz. Liczba podejść do egzaminu końcowego jest nieograniczona - możesz próbować aż do zdania egzaminu."
   ]
  }
 ],
 "metadata": {
  "hide_input": false,
  "kernelspec": {
   "display_name": "Python 3 (ipykernel)",
   "language": "python",
   "name": "python3"
  },
  "language_info": {
   "codemirror_mode": {
    "name": "ipython",
    "version": 3
   },
   "file_extension": ".py",
   "mimetype": "text/x-python",
   "name": "python",
   "nbconvert_exporter": "python",
   "pygments_lexer": "ipython3",
   "version": "3.8.10"
  },
  "toc": {
   "base_numbering": 1,
   "nav_menu": {},
   "number_sections": false,
   "sideBar": true,
   "skip_h1_title": false,
   "title_cell": "Table of Contents",
   "title_sidebar": "Spis treści",
   "toc_cell": false,
   "toc_position": {},
   "toc_section_display": true,
   "toc_window_display": true
  }
 },
 "nbformat": 4,
 "nbformat_minor": 4
}
