{
 "cells": [
  {
   "cell_type": "markdown",
   "metadata": {},
   "source": [
    "# Prawa autorskie\n",
    "\n",
    "## Wprowadzenie\n",
    "\n",
    "### Przegląd rozdziału\n",
    "\n",
    "W tym rozdziale przedstawimy w zarysie, czym są prawa autorskie i jak w kodzie źródłowym oprogramowania można opisywać własność praw autorskich.\n",
    "\n",
    "### Założenia rozdziału\n",
    "\n",
    "W tym rozdziale nauczysz się, jak:\n",
    "\n",
    "* wytłumaczyć, czym jest prawo autorskie,\n",
    "* wyszukiwać więcej informacji o celach praw autorskich,\n",
    "* informować o prawach autorskich w kodzie źródłowym oprogramowania.\n",
    "\n",
    "# Prawa autorskie\n",
    "\n",
    "### Czym są prawa autorskie?\n",
    "\n",
    "Właścicielami praw autorskich są osoby uprawnione do określenia licencji na wykorzystanie oryginalnego utworu. Licencje są również nazywane „warunkami wykorzystania”.\n",
    "\n",
    "Do zdefiniowania, czym są prawa autorskie, posłużymy się popularnym hasłem „Copyright” z [Wikipedii](https://en.wikipedia.org/wiki/Copyright):\n",
    "\n",
    "> Copyright to prawo wynikające z krajowych przepisów gwarantujące twórcy oryginalnego dzieła wyłączne uprawnienia do korzystania z niego i dystrybuowania go.\n",
    "\n",
    "Należy podkreślić, że różne kraje mają własne przepisy praw autorskich. W pewnym zakresie umowy międzynarodowe takie jak [Konwencja berneńska](https://en.wikipedia.org/wiki/Berne_Convention) oraz [Powszechna Konwencja o Prawie Autorskim](https://en.wikipedia.org/wiki/Universal_Copyright_Convention) ujednoliciły podejście do tych przepisów, ale wciąż istnieją między nimi różnice.\n",
    "\n",
    "Oryginalne „dzieło” może odnosić się do twórczego, intelektualnego lub artystycznego utworu. Kod źródłowy oprogramowania napisany przez człowieka uznaje się za oryginalne dzieło. Prawo autorskie nie obejmuje idei ani informacji, ale raczej sposób, w jaki są one wyrażone (czyli zapisane). Idee i algorytmy może obejmować za to prawo patentowe. Dzieło musi być uznane za oryginalne, a nie skopiowane z innego źródła, aby mogło objąć je prawo autorskie.\n",
    "\n",
    "![Logo Copyright](img/copyright-logo.jpg)\n",
    "\n",
    "Pobrano z [Wikipedii](https://en.wikipedia.org/wiki/Copyright), na licencji [CC BY SA 3.0](https://creativecommons.org/licenses/by-sa/3.0/).\n",
    "\n",
    "### Odrobina historii...\n",
    "\n",
    "Prawa autorskie pierwotnie stworzono, aby chronić prawa autorów, gdy prasy drukarskie umożliwiły masową produkcję książek.\n",
    "\n",
    "Wielka Brytania była pierwszym krajem uznającym prawa autorów. [Statut Królowej Anny](https://en.wikipedia.org/wiki/Statute_of_Anne), był pierwszym przepisem uznającym prawa autorów w odróżnieniu od praw producentów i sprzedawców kopii dzieł.\n",
    "\n",
    "Pierwotne przepisy zostały z czasem zmienione i udoskonalone wraz ze zmianami w technologii aż do postaci obecnej.\n",
    "\n",
    "![Statut Królowej Anny](img/statute-of-anne.jpg)\n",
    "\n",
    "**Statut Królowej Anny**. Pobrano z [Wikipedii](https://en.wikipedia.org/wiki/Statute_of_Anne), na licencji [CC BY SA 3.0](https://creativecommons.org/licenses/by-sa/3.0/).\n",
    "\n",
    "### Definicja praw autorskich w USA\n",
    "\n",
    "Z biegiem czasu inne kraje przyjęły ideę prawa autorskiego do swoich systemów prawnych. Jednym z pierwszych były Stany Zjednoczone ([Artykuł 1, Ustęp 8 Konstytucji USA](https://en.wikipedia.org/wiki/Copyright_Clause)): \n",
    "\n",
    "- popierać rozwój nauki i użytecznych umiejętności przez zapewnienie na określony czas autorom i wynalazcom wyłącznych praw do ich dzieł czy wynalazków; (Źródło: Konstytucja Stanów Zjednoczonych Ameryki. Tłum. Andrzej Pułło. Warszawa, Wydawnictwo Sejmowe, 2002)\n",
    "\n",
    "Rząd Stanów Zjednoczonych szczegółowo określił prawa autorskie w swoim kraju w Sekcji 17 United States Code jako formę ochrony oryginalnych utworów autorskich, w tym: twórczości literackiej, dramatycznej, muzycznej, architektonicznej, kartograficznej, pantomimicznej, malarskiej, graficznej, rzeźbiarskiej i audiowizualnej.\n",
    "\n",
    "Oprogramowanie napisane przez człowieka jest uznawane za oryginalny utwór autorski, a konkretnie dzieło literackie, więc jest objęte tymi przepisami.\n",
    "\n",
    "Copyright to dosłownie prawo do kopiowania. Dziś jest to wygodny sposób odnoszenia się do zbioru wyłącznych przepisów przyznawanych właścicielom praw autorskich w celu ochrony ich twórczości.\n",
    "\n",
    "Ochrona praw autorskich ma ograniczenia. W Stanach Zjednoczonych nie rozszerza się jej na żadne idee, procedury, procesy, systemy, zasady ani odkrycia. Podobnie fakty, takie jak nazwy, tytuły, krótkie frazy, slogany, powszechne symbole, warianty typograficzne, liternictwo, koloryzacja ani spisy treści i składników nie podlegają ochronie prawa autorskiego.\n",
    "\n",
    "### A co z międzynarodową definicją praw autorskich?\n",
    "\n",
    "Z czasem, gdy różne kraje tworzyły własne systemy praw autorskich, na poziomie międzynarodowym coraz trudniej było ustalić, jakie prawa stosują się do dzieł stworzonych w jednym kraju, ale kopiowanych i reprodukowanych w innym.\n",
    "\n",
    "W 1886 roku w Bernie w Szwajcarii podpisano międzynarodową umowę dotyczącą praw autorskich. The [*Konwencja berneńska o ochronie dzieł literackich i artystycznych*](https://en.wikipedia.org/wiki/Berne_Convention) wymaga od każdego z państw, które ją podpisały, aby autorzy z innych państw, które również są sygnatariuszami umowy (czyli innych członków Unii Berneńskiej), byli chronieni tak samo dobrze jak jego obywatele. Była to pierwsza próba zapewnienia minimalnych standardów praw autorskich. W szczególności na mocy Konwencji berneńskiej prawa autorskie nabywa się automatycznie i w celu ich uzyskania nie jest wymagana jakakolwiek urzędowa rejestracja. Wcześniej w niektórych krajach rejestracja w rządowym urzędzie była warunkiem przyznania praw autorskich.\n",
    "\n",
    "Mimo że rejestracja nie jest na mocy Konwencji berneńskiej wymagana, to w krajach, których przepisy przewidują możliwość rejestracji, jest to mechanizm potwierdzający nabycie praw autorskich, co pozwala ich właścicielowi dochodzić ustawowych odszkodowań i pokrycia kosztów obsługi prawnej w przypadku sporów dotyczących wykorzystania utworu objętego prawem autorskim.\n",
    "\n",
    "Kwestia rejestracji oraz czas, przez który obowiązują prawa autorskie, to niektóre z powodów, przez które Stany Zjednoczone nie podpisały Konwencji berneńskiej aż do 1989 roku. Było to możliwe dopiero po zmianie w 1988 roku krajowych przepisów o prawie autorskim, 100 lat po uchwaleniu samej Konwencji.\n",
    "\n",
    "### Kim jest właściciel praw autorskich?\n",
    "\n",
    "Ogólnie rzecz biorąc, uznaje się, że autor dzieła jest właścicielem praw autorskich. W sytuacjach, gdy autorów jest wielu, każdy otrzymuje prawa do wykorzystania i licencjonowania utworu i zazwyczaj określa się ich [właścicielami praw](https://en.wiktionary.org/wiki/rightsholder).\n",
    "\n",
    "Często gdy do powstania dzieła dochodzi w wyniku pracy zawodowej jego autora, jest ono uznawane za „utwór wykonany na zlecenie” i to pracodawca jest właścicielem praw autorskich. Na przykład „Copyright, Designs, and Patents Act of 1988” (ustawa prawa w Zjednoczonym Królestwie) stanowi, że jeśli utwór objęty prawem autorskim został stworzony przez pracownika w ramach pracy zawodowej, to prawa autorskie są automatycznie przekazywane pracodawcy. W innych systemach prawnych może to wyglądać inaczej - świetnym przykładem jest tu Europa.\n",
    "\n",
    "Własność praw autorskich może też zostać przeniesiona na inną organizację lub osobę. Systemy prawne w różnych częściach świata mogą różnie interpretować, kto jest właścicielem praw autorskich, więc zawsze należy konsultować się z lokalnym radcą prawnym.\n",
    "\n",
    "### Informacja o prawach autorskich\n",
    "\n",
    "Na mocy Konwencji berneńskiej autor nie ma obowiązku rejestrowania swoich praw autorskich. Utwór jest nimi chroniony od momentu powstania. Mimo to uznaje się za przydatne umieszczenie odpowiedniej noty (ang. „notice”) informującej o prawach autorskich w treści utworu, aby jasno określić, że utwór podlega ochronie praw autorskich, i podać, kto jest właścicielem tych praw. Przy tym niektóre licencje otwartego oprogramowana zakładają, że taka informacja zostanie umieszczona oraz będzie powielana w dalszych dystrybucjach oprogramowania.\n",
    "\n",
    "Noty o prawach autorskich w projektach otwartego oprogramowania zazwyczaj stosują jeden z dwóch formatów.\n",
    "\n",
    "#### Format historyczny\n",
    "\n",
    "Tradycyjnie noty o prawach autorskich w projektach otwartego oprogramowania przyjmowały następującą (lub zbliżoną) formę:"
   ]
  },
  {
   "cell_type": "markdown",
   "metadata": {},
   "source": [
    "```plaintext\n",
    "Copyright (C) 2001, 2004-2006 Company ABC.\n",
    "```\n"
   ]
  },
  {
   "cell_type": "markdown",
   "metadata": {},
   "source": [
    "Składały się na nią różne kombinacje następujących elementów:\n",
    "\n",
    "* wyraz \"Copyright\"\n",
    "* symbol \"(C)\" lub ©\n",
    "* rok lub seria/ zakres lat\n",
    "* nazwa osoby fizycznej lub prawnej do której prawa należą.\n",
    "\n",
    "Jest to format dość zbliżony do opisanego w przepisach o prawie autorskim USA [17 U.S.C. § 401](https://www.law.cornell.edu/uscode/text/17/401). Użycie opisanego tam formatu może być pomocne w przypadku dochodzenia praw przed sądem w USA, jeśli oskarżony dowodzi nieświadomego naruszenia praw autorskich (innocent infringement).\n",
    "\n",
    "Lata w tym formacie to zazwyczaj rok pierwszej publikacji oraz lata, w których do projektu lub pliku dodawane były treści chronione prawem autorskim.\n",
    "\n",
    "Jest to format często spotykany w kodzie źródłowym, również w otwartym oprogramowaniu. Użycie tego formatu nie jest jednak warunkiem przyznania praw autorskich osobie fizycznej lub prawnej. Jak powiedzieliśmy wcześniej, ochrona prawem autorskim zaczyna obowiązywać od momentu umieszczenia dzieła na materialnym nośniku bez względu na to, czy i w jakiej formie załączono informację o prawach autorskich.\n",
    "\n",
    "Natomiast w przypadku stosowania tego formatu w mediach innych niż oprogramowanie (np. w książce lub filmie) bardziej powszechna jest sytuacja, kiedy mamy do czynienia z pojedynczym utworem w stałej postaci, opublikowanym w konkretnym czasie z łatwą do określenia listą właścicieli praw autorskich. W przypadku kodu źródłowego w projektach otwartego oprogramowania o to samo jest już trudniej. Zmienia się on przez cały czas, a nowi współpracownicy dokonują zmian w poszczególnych plikach projektu. Z tego powodu kolejny format, opisany poniżej, zyskuje popularność w niektórych społecznościach otwartego oprogramowania.\n",
    "\n",
    "Zdarza się, że kolejni współpracownicy nie uaktualniają lat ani listy właścicieli praw autorskich, dodając nowe objęte nimi treści. Prowadzi to do sytuacji, kiedy określona nota może nie opisywać właściwie całego pliku.\n",
    "\n",
    "#### Nowszy format\n",
    "\n",
    "Informacje o prawach autorskich często przybierają też formy inne od historycznej. W nowszych projektach otwartego oprogramowania, które mają (spodziewają się) wielu współpracowników, którzy zachowują własność dodanych przez siebie treści, często wykorzystywany jest format zbliżony do takiego:"
   ]
  },
  {
   "cell_type": "markdown",
   "metadata": {},
   "source": [
    "```plaintext\n",
    "Copyright Contributors to the ___________ Project.\n",
    "```\n"
   ]
  },
  {
   "cell_type": "markdown",
   "metadata": {},
   "source": [
    "lub"
   ]
  },
  {
   "cell_type": "markdown",
   "metadata": {},
   "source": [
    "```plaintext\n",
    "Copyright The ___________ Contributors.\n",
    "```\n"
   ]
  },
  {
   "cell_type": "markdown",
   "metadata": {},
   "source": [
    "Jego intencją jest przekazanie w prosty sposób, że utwór jest objęty ochroną praw autorskich, że autorzy kodu licencjonują go, ale zachowują własność praw autorskich, a sam kod jest dystrybuowany na licencji obowiązującej w określonym projekcie.\n",
    "\n",
    "Ułatwia to zachowanie zgodności, zmniejszając do minimum różnorodne informacje, jakie kolejne osoby otrzymujące kod musiałyby powielać, aby nie naruszyć licencji otwartego oprogramowania. Pomaga to również odciążyć programistów biorących udział w projektach open source, zdejmując z nich obowiązek pamiętania o uaktualnianiu noty o prawach autorskich przy każdym zatwierdzeniu nowego kodu oraz podejmowania decyzji, czy każde zatwierdzenie zmian w kodzie wymaga zmiany dat lub nowej wersji noty.\n",
    "\n",
    "Pomaga to również uniknąć implikacji, że lista właścicieli praw autorskich jest kompletna dla danego pliku lub całego projektu. W formacie historycznym, gdzie w informacji o prawach autorskich wymieniono jedną osobę lub organizację, jest to często jedynie pierwszy twórca danego pliku. Kolejne osoby współtworzące projekt lub plik mogą nie dodawać informacji o własnych prawach na początku pliku, mimo że faktycznie nabywają takie prawa do dodanych przez siebie treści. Właśnie dlatego użycie nowego formatu noty może być bardziej właściwe niż lista konkretnych współtwórców.\n",
    "\n",
    "---\n",
    "\n",
    "Jeśli bierzesz udział w projekcie otwartego oprogramowania w imieniu swojego pracodawcy, to byłoby dobrze skonsultować się z radcą prawnym twojej firmy i ustalić, czy obowiązuje cię jakiś konkretny format noty o prawach autorskich.\n",
    "\n",
    "### Przykłady not Copyright\n",
    "\n",
    "Oto kilka przykładów informacji o prawach autorskich zarówno w formacie historycznym, jak i nowszych, opisanych na poprzedniej stronie.\n",
    "\n",
    "#### Format historyczny"
   ]
  },
  {
   "cell_type": "markdown",
   "metadata": {},
   "source": [
    "```plaintext\n",
    "Copyright 1998, Linus Torvalds\n",
    "```\n"
   ]
  },
  {
   "cell_type": "markdown",
   "metadata": {},
   "source": [
    "```plaintext\n",
    "© 2003, 2010, Free Software Foundation, Inc.\n",
    "```\n"
   ]
  },
  {
   "cell_type": "markdown",
   "metadata": {},
   "source": [
    "```plaintext\n",
    "Copyright (C) 2011, 2014-2019 Company ABC.\n",
    "```\n"
   ]
  },
  {
   "cell_type": "markdown",
   "metadata": {},
   "source": [
    "#### Nowszy format"
   ]
  },
  {
   "cell_type": "markdown",
   "metadata": {},
   "source": [
    "```plaintext\n",
    "Copyright The Kubernetes Authors.\n",
    "```\n"
   ]
  },
  {
   "cell_type": "markdown",
   "metadata": {},
   "source": [
    "```plaintext\n",
    "Copyright Contributors to the OpenVDB Project.\n",
    "```\n"
   ]
  },
  {
   "cell_type": "markdown",
   "metadata": {},
   "source": [
    "```plaintext\n",
    "Copyright the Hyperledger Fabric contributors.\n",
    "```\n"
   ]
  },
  {
   "cell_type": "markdown",
   "metadata": {},
   "source": [
    "#### Być albo nie być Noty Copyright\n",
    "\n",
    "Programiści często dyskutują między sobą, czy informacje o prawach autorskich należy dodawać czy nie. My zalecamy, aby w każdym nowym pliku jego autor dodał notę. Może ona przybrać nowy, ogólny format, jaki opisaliśmy powyżej, albo zawierać bardziej tradycyjne informacje szczegółowe, takie jak data i nazwy właścicieli praw autorskich. Dokonując znacznych zmian w istniejących plikach, autor powinien zaktualizować notę, jeśli wykorzystuje format tradycyjny.\n",
    "\n",
    "Przed 1989 rokiem używanie not było w USA obowiązkowe, podobnie jak rejestrowanie praw autorskich. Przyjmując postanowienia Konwencji berneńskiej, USA były zmuszone dostosować swoje przepisy. Skoro dzięki Konwencji prawa autorskie nabywa się automatycznie, to i noty stały się opcjonalne.\n",
    "\n",
    "Należy jednak zauważyć, że noty o prawach autorskich osób trzecich nie powinny być ani modyfikowane, ani usuwane przez nikogo poza nimi samymi (lub na ich żądanie). Bez względu na format stosowany przez osoby biorące udział w projekcie, reprodukując treści pochodzących od osób trzecich, należy zachować użyty przez nie format not i tylko one mają prawo zmieniać i usuwać własne noty. \n",
    "\n",
    "I wreszcie: jeśli współtworzysz kod w projekcie otwartego oprogramowania, to raczej nie używaj sformułowania „All Rights Reserved” (Wszystkie prawa zastrzeżone). Pliki wielu programów komercyjnych mogą zawierać tę klauzulę i dlatego programiści czasem wklejają ją na końcu informacji o prawach autorskich w projektach open source. Nie ma żadnych przesłanek, aby myśleć, że dodanie tej frazy w jakikolwiek sposób zmienia lub podważa przepisy otwartej licencji stosowanej przez projekt. Co najwyżej użycie tego sformułowania prowadzi do zamieszania, więc lepiej go unikać.\n",
    "\n",
    "### Wytyczne REUSE Software dotyczące not Copyright\n",
    "\n",
    "W poprzednim rozdziale o licencjach mówiliśmy o [Wytycznych REUSE Software ](https://reuse.software/spec/) i ich rekomendacjach zapisywania informacji o licencjach za pomocą skróconych form identyfikatorów SPDX.\n",
    "\n",
    "REUSE podaje również rekomendacje, jak dodawać do pliku informacje o prawach autorskich. Są one ogólnie zgodne z formatem historycznym, ponieważ wymagają dołączenia nazwy właściciela praw autorskich i zachęcają do podania roku publikacji.\n",
    "\n",
    "Co do szczegółów REUSE zachęca do informowania o prawach autorskich z wykorzystaniem [znaczników SPDX w plikach](https://github.com/spdx/spdx-spec/blob/development/v2.2/chapters/appendix-IX-file-tags.md). Znaczniki (tagi) plikowe zostały dodane w wersji 2.2 specyfikacji SPDX. Zapewniają one łatwy do przeszukiwania format zamieszczania w plikach informacji mieszczących się w pojedynczej linii, podobnie jak w przypadku skróconych identyfikatorów licencji SPDX. REUSE zaleca wykorzystanie znacznika **SPDX-FileCopyrightText:**do umieszczania informacji o prawach autorskich w plikach, tak jak w przykładach poniżej:"
   ]
  },
  {
   "cell_type": "markdown",
   "metadata": {},
   "source": [
    "```plaintext\n",
    "SPDX-FileCopyrightText: 2019 Jane Doe\n",
    "```\n"
   ]
  },
  {
   "cell_type": "markdown",
   "metadata": {},
   "source": [
    "lub"
   ]
  },
  {
   "cell_type": "markdown",
   "metadata": {},
   "source": [
    "```plaintext\n",
    "SPDX-FileCopyrightText: © 2019 John Doe \n",
    "```\n"
   ]
  },
  {
   "cell_type": "markdown",
   "metadata": {},
   "source": [
    "## Podsumowanie\n",
    "\n",
    "### Konkluzje\n",
    "\n",
    "Mamy nadzieję, że rozumiesz już, czym jest copyright i dlaczego w kodzie źródłowym pojawiają się informacje o prawach autorskich.\n",
    "\n",
    "Potrafisz też już pewnie rozpoznawać bardziej „tradycyjne” style not copyright, jak również te nowsze, które mogą nie zawierać dat i nazwisk właścicieli praw autorskich. Wiesz już też, jak omówić ze swoim radcą prawnym kwestię preferowanego przez twojego pracodawcę formatu stosowanego przy współpracy w projektach open source."
   ]
  }
 ],
 "metadata": {
  "hide_input": false,
  "kernelspec": {
   "display_name": "Python 3 (ipykernel)",
   "language": "python",
   "name": "python3"
  },
  "language_info": {
   "codemirror_mode": {
    "name": "ipython",
    "version": 3
   },
   "file_extension": ".py",
   "mimetype": "text/x-python",
   "name": "python",
   "nbconvert_exporter": "python",
   "pygments_lexer": "ipython3",
   "version": "3.8.10"
  },
  "toc": {
   "base_numbering": 1,
   "nav_menu": {},
   "number_sections": false,
   "sideBar": true,
   "skip_h1_title": false,
   "title_cell": "Table of Contents",
   "title_sidebar": "Spis treści",
   "toc_cell": false,
   "toc_position": {},
   "toc_section_display": true,
   "toc_window_display": true
  }
 },
 "nbformat": 4,
 "nbformat_minor": 4
}
